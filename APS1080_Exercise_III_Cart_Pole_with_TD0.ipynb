{
  "nbformat": 4,
  "nbformat_minor": 0,
  "metadata": {
    "colab": {
      "name": "APS1080_Exercise_III_Cart_Pole_with_TD0.ipynb",
      "provenance": [],
      "collapsed_sections": []
    },
    "kernelspec": {
      "name": "python3",
      "display_name": "Python 3"
    },
    "language_info": {
      "name": "python"
    }
  },
  "cells": [
    {
      "cell_type": "markdown",
      "source": [
        "#Exercise III: Cart-Pole with TD(0)"
      ],
      "metadata": {
        "id": "nQOwMeP0al5O"
      }
    },
    {
      "cell_type": "code",
      "metadata": {
        "id": "1XDvssQd64Pf"
      },
      "source": [
        "!apt-get install -y xvfb python-opengl > /dev/null 2>&1"
      ],
      "execution_count": null,
      "outputs": []
    },
    {
      "cell_type": "code",
      "metadata": {
        "id": "F5esgX013vPe"
      },
      "source": [
        "!pip install gym pyvirtualdisplay > /dev/null 2>&1"
      ],
      "execution_count": null,
      "outputs": []
    },
    {
      "cell_type": "code",
      "source": [
        "import gym\n",
        "import numpy as np\n",
        "import matplotlib.pyplot as plt\n",
        "from IPython import display as ipythondisplay\n",
        "import random\n",
        "import math\n",
        "\n",
        "from collections import defaultdict"
      ],
      "metadata": {
        "id": "n8NTD3v0fcoB"
      },
      "execution_count": null,
      "outputs": []
    },
    {
      "cell_type": "code",
      "metadata": {
        "id": "FGqXqJxoAsHG",
        "colab": {
          "base_uri": "https://localhost:8080/"
        },
        "outputId": "0ecd121c-7063-49cd-b698-7eb76a2b9227"
      },
      "source": [
        "from pyvirtualdisplay import Display\n",
        "display = Display(visible=0, size=(400, 300))\n",
        "display.start()"
      ],
      "execution_count": null,
      "outputs": [
        {
          "output_type": "execute_result",
          "data": {
            "text/plain": [
              "<pyvirtualdisplay.display.Display at 0x7f2be1b6bbd0>"
            ]
          },
          "metadata": {},
          "execution_count": 4
        }
      ]
    },
    {
      "cell_type": "code",
      "source": [
        "env = gym.make(\"CartPole-v0\")\n",
        "env.reset()\n"
      ],
      "metadata": {
        "id": "_HEWtEnwNqzN",
        "colab": {
          "base_uri": "https://localhost:8080/"
        },
        "outputId": "124e651f-2260-4364-befb-6969d81b51ad"
      },
      "execution_count": null,
      "outputs": [
        {
          "output_type": "execute_result",
          "data": {
            "text/plain": [
              "array([-0.00878473, -0.03004611, -0.04490942, -0.00323586])"
            ]
          },
          "metadata": {},
          "execution_count": 5
        }
      ]
    },
    {
      "cell_type": "code",
      "source": [
        "states = (1, 1, 6, 3)  # (x, x', theta, theta')\n",
        "actions = env.action_space.n \n",
        "\n",
        "limit = list(zip(env.observation_space.low, env.observation_space.high))\n",
        "limit[1] = [-1, 1]\n",
        "limit[3] = [-math.radians(50), math.radians(50)]\n",
        "def observation_to_state(observation):\n",
        "    states_list = []\n",
        "    for i in range(len(observation)):\n",
        "        if observation[i] <= limit[i][0]:\n",
        "            index = 0\n",
        "        elif observation[i] >= limit[i][1]:\n",
        "            index = states[i] - 1\n",
        "        else:\n",
        "            # map the state bounds to the state array\n",
        "            width = limit[i][1] - limit[i][0]\n",
        "            offset = (states[i]-1)*limit[i][0]/width\n",
        "            scaling = (states[i]-1)/width\n",
        "            index = int(round(scaling*observation[i] - offset))\n",
        "        states_list.append(index)\n",
        "    return tuple(states_list)"
      ],
      "metadata": {
        "id": "mdG-OJViN1VO"
      },
      "execution_count": null,
      "outputs": []
    },
    {
      "cell_type": "code",
      "source": [
        "def epsilon_greedy_policy(Q, epsilon, nA):\n",
        "   \n",
        "    def policy_fn(observation):\n",
        "        A = np.ones(nA, dtype=float) * epsilon / nA\n",
        "        best_action = np.argmax(Q[observation])\n",
        "        A[best_action] += (1.0 - epsilon)\n",
        "        return A\n",
        "    return policy_fn"
      ],
      "metadata": {
        "id": "YQw-9pfmOPcZ"
      },
      "execution_count": null,
      "outputs": []
    },
    {
      "cell_type": "markdown",
      "source": [
        "#a. On-policy SARSA"
      ],
      "metadata": {
        "id": "KojvQo6_YFCH"
      }
    },
    {
      "cell_type": "code",
      "source": [
        "\n",
        "def on_policy_sarsa(env, num_episodes, discount_factor=0.9, alpha=0.5, epsilon=0.1):\n",
        "\n",
        "    Qtable = defaultdict(lambda: np.zeros(env.action_space.n)) #Q table for all (s,a)\n",
        "  \n",
        "    episode_lengths=np.zeros(num_episodes)\n",
        "    episode_rewards=np.zeros(num_episodes)\n",
        "\n",
        "    policy = epsilon_greedy_policy(Qtable, epsilon, env.action_space.n) #obtain policy\n",
        "    \n",
        "    for i_episode in range(num_episodes):         \n",
        "        obs = env.reset()# Reset and pick the first action\n",
        "        prev_screen = env.render(mode='rgb_array')\n",
        "        plt.imshow(prev_screen)\n",
        "        state=observation_to_state(obs)\n",
        "        action_probs = policy(state)\n",
        "        action = np.random.choice(np.arange(len(action_probs)), p=action_probs)\n",
        "            \n",
        "        for t in range(20000):\n",
        "            # Take a step\n",
        "            print(\"step i\",t,\"action=\",action,\"\\n\")\n",
        "            next_obs, reward, done, info = env.step(action)\n",
        "            print(\"Next observation=\",next_obs,\"reward=\",reward,\"done=\",done,\"info=\",info,\"\\n\")\n",
        "            next_state=observation_to_state(next_obs)\n",
        "            \n",
        "            next_action_probs = policy(next_state) #next action\n",
        "            next_action = np.random.choice(np.arange(len(next_action_probs)), p=next_action_probs)\n",
        "            \n",
        "            episode_rewards[i_episode] += reward\n",
        "            episode_lengths[i_episode] = t\n",
        "            \n",
        "            # TD Update\n",
        "            td_target = reward + discount_factor * Qtable[next_state][next_action]\n",
        "            td_delta = td_target - Qtable[state][action]\n",
        "            Qtable[state][action] += alpha * td_delta\n",
        "    \n",
        "            screen = env.render(mode='rgb_array')\n",
        "            plt.imshow(screen)\n",
        "            ipythondisplay.clear_output(wait=True)\n",
        "            ipythondisplay.display(plt.gcf())\n",
        "\n",
        "            if done:\n",
        "                break\n",
        "                \n",
        "            action = next_action\n",
        "            state = next_state   \n",
        "    ipythondisplay.clear_output(wait=True)\n",
        "    env.close()\n",
        "    print(\"Iterations that were run:\",t)\n",
        "     \n",
        "    \n",
        "    return Qtable"
      ],
      "metadata": {
        "id": "6cQ2Ye6bOruS"
      },
      "execution_count": null,
      "outputs": []
    },
    {
      "cell_type": "code",
      "source": [
        "q1=on_policy_sarsa(env,2)"
      ],
      "metadata": {
        "colab": {
          "base_uri": "https://localhost:8080/",
          "height": 305
        },
        "id": "Dx4MuNc7RqrW",
        "outputId": "13f3ece1-66bf-4363-ff74-fa6a1b3cfb35"
      },
      "execution_count": null,
      "outputs": [
        {
          "output_type": "stream",
          "name": "stdout",
          "text": [
            "Iterations that were run: 18\n",
            "\n"
          ]
        },
        {
          "output_type": "display_data",
          "data": {
            "image/png": "[encoded data removed]",
            "text/plain": [
              "<Figure size 432x288 with 1 Axes>"
            ]
          },
          "metadata": {
            "needs_background": "light"
          }
        }
      ]
    },
    {
      "cell_type": "code",
      "source": [
        "for s,a in q1.items():\n",
        "  print(s,\":\",a)\n"
      ],
      "metadata": {
        "colab": {
          "base_uri": "https://localhost:8080/"
        },
        "id": "JeVdCDurqJ7y",
        "outputId": "f1acc0e0-0ccc-4bc3-efd9-03f87cd7ee5f"
      },
      "execution_count": null,
      "outputs": [
        {
          "output_type": "stream",
          "name": "stdout",
          "text": [
            "(0, 0, 3, 1) : [4.97465411 0.        ]\n",
            "(0, 0, 3, 2) : [1.54746774 2.91254919]\n",
            "(0, 0, 4, 2) : [1.8549375 0.       ]\n",
            "(0, 0, 4, 1) : [0.93875 0.     ]\n"
          ]
        }
      ]
    },
    {
      "cell_type": "markdown",
      "source": [
        "#b. Off-policy Q learning"
      ],
      "metadata": {
        "id": "IhXaT9uEc59-"
      }
    },
    {
      "cell_type": "code",
      "source": [
        "def select_action(state, explore_rate):\n",
        "    # select a random action\n",
        "    if random.random() < explore_rate:\n",
        "        action = env.action_space.sample()\n",
        "    # select the action with the highest q\n",
        "    else:\n",
        "        action = np.argmax(q_table[state])\n",
        "    return action\n",
        "\n",
        "# learning related constants\n",
        "min_explore_rate = 0.01\n",
        "min_learning_rate = 0.1\n",
        "\n",
        "def get_explore_rate(t):\n",
        "    return max(min_explore_rate, min(1, 1.0 - math.log10((t+1)/25)))\n",
        "def get_learning_rate(t):\n",
        "    return max(min_learning_rate, min(0.5, 1.0 - math.log10((t+1)/25)))\n"
      ],
      "metadata": {
        "id": "19rFj665LHrl"
      },
      "execution_count": null,
      "outputs": []
    },
    {
      "cell_type": "code",
      "source": [
        "import logging\n",
        "logger = logging.getLogger('my_logger')\n",
        "logging.basicConfig()\n",
        "\n",
        "q_table = defaultdict(lambda: np.zeros(env.action_space.n)) #Q table for all (s,a)\n",
        "def off_policy_Qlearning(env,max_iteration):\n",
        "  time_steps = 2000\n",
        "  success_to_end = 5\n",
        "  num_success = 0\n",
        "  success_time=200\n",
        "  learning_rate = get_learning_rate(0)\n",
        "  explore_rate = get_explore_rate(0)\n",
        "  gamma=0.9\n",
        "  \n",
        "  for i in range(max_iteration):\n",
        "    obser= env.reset()\n",
        "  \n",
        "    total_reward = 0\n",
        "    state_0 = observation_to_state(obser)\n",
        "    for t1 in range(time_steps):\n",
        "      env.render()\n",
        "      action1 = select_action(state_0, explore_rate)\n",
        "\n",
        "      obser, rew, done1, info1 = env.step(action1)\n",
        "      print(\"step i\",t1,\"action=\",action1,\"\\n\")\n",
        "      print(\"Next observation=\",obser,\"reward=\",rew,\"done=\",done1,\"\\n\")\n",
        "      state = observation_to_state(obser) \n",
        "      best_q = max(q_table[state])# update the Q table \n",
        "      q_table[state_0][action1] = q_table[state_0][action1]  + learning_rate * (rew + gamma * (best_q) - q_table[state_0][action1]) \n",
        "      state_0 = state\n",
        "      total_reward += rew\n",
        "      \n",
        "      if done1:\n",
        "        print(\"Iteration No:\", i+1,\"TimeSteps:\",t1,\" Success:\",num_success, \"Best Q:\",best_q,\"Explore rate:\",explore_rate,\"Learning rate:\",learning_rate,\"Total reward:\", total_reward)\n",
        "        if t1>=success_time:\n",
        "          num_success+=1\n",
        "        else:\n",
        "          num_success=0\n",
        "        break\n",
        "      \n",
        "    # break when it's solved over num_success=5 times consecutively\n",
        "      if num_success > success_to_end:\n",
        "          break\n",
        "    print(\"Episode\",i+1 ,\"terminated after\",t1,\"Iterations \")\n",
        "  ipythondisplay.clear_output(wait=True)\n",
        "  env.close()\n",
        "  \n",
        "  explore_rate = get_explore_rate(i)\n",
        "  learning_rate = get_learning_rate(i)\n",
        "  return q_table, total_reward"
      ],
      "metadata": {
        "id": "ZqGnfPBZdIBp"
      },
      "execution_count": null,
      "outputs": []
    },
    {
      "cell_type": "code",
      "source": [
        "q2,re=off_policy_Qlearning(env,5)"
      ],
      "metadata": {
        "colab": {
          "base_uri": "https://localhost:8080/",
          "height": 268
        },
        "id": "5jhBgAvotCQk",
        "outputId": "5027a3c0-07a9-41e0-80a7-090e26f0ad22"
      },
      "execution_count": null,
      "outputs": [
        {
          "output_type": "display_data",
          "data": {
            "image/png": "[encoded data removed]",
            "text/plain": [
              "<Figure size 432x288 with 1 Axes>"
            ]
          },
          "metadata": {
            "needs_background": "light"
          }
        }
      ]
    },
    {
      "cell_type": "markdown",
      "source": [
        "#####Sample output\n",
        "\n",
        "![image.png](data:image/png;base64,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)"
      ],
      "metadata": {
        "id": "KdbFVXCcZiB-"
      }
    },
    {
      "cell_type": "code",
      "source": [
        "print(\"Total reward in last episode:\",re)"
      ],
      "metadata": {
        "colab": {
          "base_uri": "https://localhost:8080/"
        },
        "id": "frrxVjNyvFED",
        "outputId": "b72e5ea0-799f-4388-ea67-be48b3a99e7e"
      },
      "execution_count": null,
      "outputs": [
        {
          "output_type": "stream",
          "name": "stdout",
          "text": [
            "Total reward in last episode: 27.0\n"
          ]
        }
      ]
    },
    {
      "cell_type": "markdown",
      "source": [
        "#c. Off-policy Expected SARSA with an epsilon-greedy policy"
      ],
      "metadata": {
        "id": "hsofpCzVrxEi"
      }
    },
    {
      "cell_type": "code",
      "source": [
        "Q_table = defaultdict(lambda: np.zeros(env.action_space.n))\n",
        "\n",
        "def select_action(state, explore_rate):\n",
        "    # select a random action\n",
        "    if random.random() < explore_rate:\n",
        "        action = env.action_space.sample()\n",
        "    # select the action with the highest q\n",
        "    else:\n",
        "      qlist=list(Q_table[state])\n",
        "      action = qlist.index(max(qlist)) \n",
        "    return action\n",
        "\n",
        "def off_policy_expectedSARSA(env,num_episodes):\n",
        "  epsilon = 0.1 # Exploration rate\n",
        "  alpha = 0.5 # Step size \n",
        "  gamma = 0.9\n",
        "  max_steps=200\n",
        "  epreward=0\n",
        "  totreward=[]\n",
        "  e=0.1\n",
        "  for i in range(num_episodes):\n",
        "    prev_state = env.reset()\n",
        "    prev_state=observation_to_state(prev_state)\n",
        "    prev_action =select_action(prev_state,e)\n",
        "    epreward = 0\n",
        "\n",
        "    for t2 in range(max_steps):\n",
        "      new_state, reward1, done2, _ = env.step(prev_action)\n",
        "      new_state=observation_to_state(new_state)\n",
        "      new_action = select_action(new_state,e)\n",
        "      oldQ=Q_table[prev_state][prev_action]\n",
        "      expected_q=0\n",
        "      qmax = max(Q_table[prev_state])\n",
        "      greedy_actions = 0\n",
        "      for j in range(actions):\n",
        "          if Q_table[new_state][j] == qmax:\n",
        "            greedy_actions += 1\n",
        "     \n",
        "      p1 = epsilon / actions #non-greedy action prob\n",
        "      p2 = ((1 - epsilon) / greedy_actions) + p1 #greedy_action_probability\n",
        "      for k in range(actions):\n",
        "            if Q_table[new_state][k] == qmax:\n",
        "                expected_q += Q_table[new_state][k] * p2\n",
        "            else:\n",
        "                expected_q += Q_table[new_state][k] * p1\n",
        "      Q_table[prev_state, prev_action] += alpha * (reward1 + gamma * expected_q - oldQ)\n",
        "      prev_state=new_state\n",
        "      prev_action=new_action\n",
        "      epreward+=reward1\n",
        "      print(\"Episode no.:\",i,\"Timestep:\",t2)\n",
        "      screen2 = env.render(mode='rgb_array')\n",
        "      plt.imshow(screen2)\n",
        "      ipythondisplay.clear_output(wait=True)\n",
        "      ipythondisplay.display(plt.gcf())\n",
        "      if done2:\n",
        "        break\n",
        "  totreward.append(epreward)    \n",
        "  print(\"Mean Expected return\",np.mean(totreward))\n",
        "  ipythondisplay.clear_output(wait=True)\n",
        "  env.close()\n",
        "  return Q_table , np.mean(totreward)   \n"
      ],
      "metadata": {
        "id": "un5pZR92pykj"
      },
      "execution_count": null,
      "outputs": []
    },
    {
      "cell_type": "code",
      "source": [
        "q3,re1=off_policy_expectedSARSA(env,5)"
      ],
      "metadata": {
        "colab": {
          "base_uri": "https://localhost:8080/",
          "height": 268
        },
        "id": "q_-yKq5yybBj",
        "outputId": "607f9ad6-5589-40c5-a44c-bff3ee7b6e54"
      },
      "execution_count": null,
      "outputs": [
        {
          "output_type": "display_data",
          "data": {
            "image/png": "[encoded data removed]",
            "text/plain": [
              "<Figure size 432x288 with 1 Axes>"
            ]
          },
          "metadata": {
            "needs_background": "light"
          }
        }
      ]
    },
    {
      "cell_type": "markdown",
      "source": [
        "###Sample output:\n",
        "\n",
        "![image.png](data:image/png;base64,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)"
      ],
      "metadata": {
        "id": "elOPRuRW6kAo"
      }
    },
    {
      "cell_type": "code",
      "source": [
        "print(\"Mean expected reward=\",re1)"
      ],
      "metadata": {
        "colab": {
          "base_uri": "https://localhost:8080/"
        },
        "id": "za7gmLQw60Wj",
        "outputId": "83995f9d-283a-44a4-f9fb-9bc0014faf30"
      },
      "execution_count": null,
      "outputs": [
        {
          "output_type": "stream",
          "name": "stdout",
          "text": [
            "Mean expected reward= 9.0\n"
          ]
        }
      ]
    }
  ]
}