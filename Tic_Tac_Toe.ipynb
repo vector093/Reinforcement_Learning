{
  "nbformat": 4,
  "nbformat_minor": 0,
  "metadata": {
    "colab": {
      "provenance": []
    },
    "kernelspec": {
      "name": "python3",
      "display_name": "Python 3"
    },
    "language_info": {
      "name": "python"
    }
  },
  "cells": [
    {
      "cell_type": "markdown",
      "metadata": {
        "id": "KeJapyoR5111"
      },
      "source": [
        "# **Tic Tac Toe Player vs Computer**"
      ]
    },
    {
      "cell_type": "code",
      "metadata": {
        "id": "jWXj8DYUwAYR"
      },
      "source": [
        "import sys\n",
        "import numpy as np\n",
        "import random\n",
        "import copy\n",
        "from collections import deque\n"
      ],
      "execution_count": null,
      "outputs": []
    },
    {
      "cell_type": "markdown",
      "metadata": {
        "id": "lFKSu-2c5-Ym"
      },
      "source": [
        "The class game from before is used with inclusion of 2 functions get_state and find_open- to get all the open postions on the board."
      ]
    },
    {
      "cell_type": "code",
      "metadata": {
        "id": "CeLuW74WR_eP"
      },
      "source": [
        "class game:\n",
        "\n",
        "  def __init__(self):\n",
        "    self.board = np.array([[0, 0, 0],\n",
        "                            [0, 0, 0],\n",
        "                            [0, 0, 0]])\n",
        "\n",
        "    \n",
        "  def set_item(self, index, player):\n",
        "    \n",
        "    if (self.board[index // 3][index % 3]==0):\n",
        "      self.board[index // 3][index % 3] = player\n",
        "    else:\n",
        "      raise RuntimeError('Spot {} already has a piece'.format(index))\n",
        "  \n",
        "  def get_state(self):\n",
        "    return (self.board)\n",
        "\n",
        "  def show(self):\n",
        "    print(self.board)\n",
        "  \n",
        "  def find_open(self):\n",
        "    o=[]\n",
        "    for x in range(len(self.board)):\n",
        "      for y in range(len(self.board)):\n",
        "        if self.board[x][y]==0:\n",
        "          t=x*3+y\n",
        "          o.append(t)\n",
        "    return o\n",
        "\n",
        "\n",
        "  def row_win(self, player):\n",
        "    for x in range(len(self.board)):\n",
        "        win = True\n",
        "          \n",
        "        for y in range(len(self.board)):\n",
        "            if self.board[x, y] != player:\n",
        "                win = False\n",
        "                break\n",
        "                  \n",
        "        if win == True:\n",
        "            return(win)\n",
        "    return(win)\n",
        "\n",
        "  def col_win(self, player):\n",
        "      for x in range(len(self.board)):\n",
        "          win = True\n",
        "            \n",
        "          for y in range(len(self.board)):\n",
        "              if self.board[y][x] != player:\n",
        "                  win = False\n",
        "                  break\n",
        "                    \n",
        "          if win == True:\n",
        "              return(win)\n",
        "      return(win)\n",
        "\n",
        "  def diag_win(self, player):\n",
        "      win = True\n",
        "      y = 0\n",
        "      for x in range(len(self.board)):\n",
        "          if self.board[x, x] != player:\n",
        "              win = False\n",
        "      if win:\n",
        "          return win\n",
        "      win = True\n",
        "      if win:\n",
        "          for x in range(len(self.board)):\n",
        "              y = len(self.board) - 1 - x\n",
        "              if self.board[x, y] != player:\n",
        "                  win = False\n",
        "      return win\n",
        "\n",
        "  # Evaluates whether there is\n",
        "  # a winner or a tie\n",
        "  def evaluate(self,player):\n",
        "      winner = 0\n",
        "        \n",
        "      if (self.row_win(player) or self.col_win(player) or self.diag_win(player)):\n",
        "          winner = player\n",
        "          \n",
        "      if np.all(self.board != 0) and winner == 0:\n",
        "          winner = -1\n",
        "      return winner  "
      ],
      "execution_count": null,
      "outputs": []
    },
    {
      "cell_type": "markdown",
      "metadata": {
        "id": "n9N4WIe56VNL"
      },
      "source": [
        "A dictionary of all the possible states and their respective values is initialized"
      ]
    },
    {
      "cell_type": "code",
      "metadata": {
        "collapsed": true,
        "id": "DSskRKTYt84c"
      },
      "source": [
        "Tic=game()\n",
        "vdict={}\n",
        "for a in range (3):\n",
        "  for b in range (3):\n",
        "    for c in range (3):\n",
        "      for d in range (3):\n",
        "        for e in range (3):\n",
        "          for f in range (3):\n",
        "            for g in range (3):\n",
        "              for h in range (3):\n",
        "                for i in range (3):\n",
        "                  Tic.board=np.array([[a, b, c],\n",
        "                                      [d, e, f],\n",
        "                                      [g, h, i]])\n",
        "                  if (Tic.evaluate(2)==2):\n",
        "                    vdict[tuple(Tic.board.flatten())]=1\n",
        "                  elif (Tic.evaluate(2)==1):\n",
        "                    vdict[tuple(Tic.board.flatten())]=0\n",
        "                  else:\n",
        "                    vdict[tuple(Tic.board.flatten())]=0.5\n",
        "Tic.__init__()\n"
      ],
      "execution_count": null,
      "outputs": []
    },
    {
      "cell_type": "markdown",
      "metadata": {
        "id": "zpSAj8s96fN1"
      },
      "source": [
        "Explotit function is used to make the move with the highest value"
      ]
    },
    {
      "cell_type": "code",
      "metadata": {
        "id": "V7Jb6bka0e_Y",
        "colab": {
          "base_uri": "https://localhost:8080/"
        },
        "outputId": "0a2671a1-8442-4826-c238-e787ac8fe028"
      },
      "source": [
        "def exploit(Tic):\n",
        "  temp=game()\n",
        "  temp.board=copy.deepcopy(Tic.get_state())\n",
        "  spots=Tic.find_open()\n",
        "  v=vdict[tuple(temp.board.flatten())]\n",
        "  move=0\n",
        "  for s in spots:\n",
        "    temp.board=copy.deepcopy(Tic.get_state())\n",
        "    temp.set_item(s,2)\n",
        "    if (vdict[tuple(temp.board.flatten())]>= v):\n",
        "      v=vdict[tuple(temp.board.flatten())]\n",
        "      move=s\n",
        "  return (move)\n",
        "\n",
        "print(exploit(Tic))"
      ],
      "execution_count": null,
      "outputs": [
        {
          "output_type": "stream",
          "text": [
            "8\n"
          ],
          "name": "stdout"
        }
      ]
    },
    {
      "cell_type": "markdown",
      "metadata": {
        "id": "iKz_VdfW6tHb"
      },
      "source": [
        "Explore function is used to make a randomized move so we can explore the environment"
      ]
    },
    {
      "cell_type": "code",
      "metadata": {
        "colab": {
          "base_uri": "https://localhost:8080/"
        },
        "id": "QRLlZYc5td7j",
        "outputId": "6957bb34-3820-422a-fb02-5b01729ac4c4"
      },
      "source": [
        "def explore(Tic):\n",
        "  spots=Tic.find_open()\n",
        "  s=random.randint(0,len(spots)-1)\n",
        "  return(spots[s])\n",
        "\n",
        "print(explore(Tic))"
      ],
      "execution_count": null,
      "outputs": [
        {
          "output_type": "stream",
          "text": [
            "1\n"
          ],
          "name": "stdout"
        }
      ]
    },
    {
      "cell_type": "markdown",
      "metadata": {
        "id": "yZJOuVFR605K"
      },
      "source": [
        "Temporal difference learning is used to update our value dictionary by using the state before and the current state"
      ]
    },
    {
      "cell_type": "code",
      "metadata": {
        "id": "3rXos5u5vucd"
      },
      "source": [
        "def update_value(states,vdict):\n",
        "  alpha=0.1\n",
        "  v=vdict[tuple(states[0].flatten())]\n",
        "  vn=vdict[tuple(states[1].flatten())]\n",
        "  vnew= v + alpha*(vn-v)\n",
        "  return(vnew)\n"
      ],
      "execution_count": null,
      "outputs": []
    },
    {
      "cell_type": "markdown",
      "source": [
        "The helper methods used are explined above.\n",
        "\n",
        "The feedback needed is the current state of the board which can be used to compute the value of the state.\n",
        "\n",
        "The action space is the free spaces in the board.\n",
        "\n",
        "We can see that as we continue to play against the computer the value function which is in the form of a dictionery gets optimized allowing the computer to take better decision."
      ],
      "metadata": {
        "id": "3Kw1G3m7-2L5"
      }
    },
    {
      "cell_type": "code",
      "metadata": {
        "colab": {
          "base_uri": "https://localhost:8080/"
        },
        "id": "r8KsRa0VOgd8",
        "outputId": "a984ccb9-fb44-41e2-b30c-180cbb8e4f52"
      },
      "source": [
        "play=True\n",
        "Tic.__init__()\n",
        "def player1():\n",
        "  move = int(input(\"Pick a spot to place 1: (0-8) \"))\n",
        "  return move\n",
        "\n",
        "def player2():\n",
        "  move = int(input(\"Pick a spot to place 2: (0-8) \"))\n",
        "  return move\n",
        "\n",
        "print('the game started')\n",
        "s_old=Tic.board\n",
        "\n",
        "while (play):\n",
        "  Tic.show()\n",
        "\n",
        "  move=player1()\n",
        "  Tic.set_item(move,1)\n",
        "\n",
        "  if (Tic.evaluate(1)==1):\n",
        "    print('player 1 is the winner')\n",
        "    Tic.show()\n",
        "    break\n",
        "  elif (Tic.evaluate(1)==-1):\n",
        "    print('the game is a draw')\n",
        "    Tic.show()\n",
        "    break\n",
        "\n",
        "  Tic.show()\n",
        "  r=random.randint(1,6)\n",
        "  if r==1:\n",
        "    move=explore(Tic)\n",
        "  else:\n",
        "    move=exploit(Tic)\n",
        "\n",
        "  print('computer played-')\n",
        "  #move=player2()\n",
        "  Tic.set_item(move,2)\n",
        "  s_new=Tic.board\n",
        "  vdict[tuple(s_old.flatten())]=update_value([s_old,s_new],vdict)\n",
        "  s_old=s_new\n",
        "\n",
        "  if (Tic.evaluate(2)==2):\n",
        "    print('player 2 is the winner')\n",
        "    Tic.show()\n",
        "    break\n",
        "  elif (Tic.evaluate(2)==-1):\n",
        "    print('the game is a draw')\n",
        "    Tic.show()\n",
        "    break\n",
        "  "
      ],
      "execution_count": null,
      "outputs": [
        {
          "output_type": "stream",
          "text": [
            "the game started\n",
            "[[0 0 0]\n",
            " [0 0 0]\n",
            " [0 0 0]]\n",
            "Pick a spot to place 1: (0-8) 5\n",
            "[[0 0 0]\n",
            " [0 0 1]\n",
            " [0 0 0]]\n",
            "computer played-\n",
            "[[0 0 0]\n",
            " [0 0 1]\n",
            " [0 0 2]]\n",
            "Pick a spot to place 1: (0-8) 7\n",
            "[[0 0 0]\n",
            " [0 0 1]\n",
            " [0 1 2]]\n",
            "computer played-\n",
            "[[0 0 0]\n",
            " [0 0 1]\n",
            " [2 1 2]]\n",
            "Pick a spot to place 1: (0-8) 4\n",
            "[[0 0 0]\n",
            " [0 1 1]\n",
            " [2 1 2]]\n",
            "computer played-\n",
            "[[0 0 0]\n",
            " [2 1 1]\n",
            " [2 1 2]]\n",
            "Pick a spot to place 1: (0-8) 0\n",
            "[[1 0 0]\n",
            " [2 1 1]\n",
            " [2 1 2]]\n",
            "computer played-\n",
            "[[1 2 0]\n",
            " [2 1 1]\n",
            " [2 1 2]]\n",
            "Pick a spot to place 1: (0-8) 2\n",
            "the game is a draw\n",
            "[[1 2 1]\n",
            " [2 1 1]\n",
            " [2 1 2]]\n"
          ],
          "name": "stdout"
        }
      ]
    }
  ]
}