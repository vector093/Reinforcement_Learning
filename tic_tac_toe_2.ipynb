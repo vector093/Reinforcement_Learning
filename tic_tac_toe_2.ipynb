{
  "nbformat": 4,
  "nbformat_minor": 0,
  "metadata": {
    "colab": {
      "provenance": []
    },
    "kernelspec": {
      "name": "python3",
      "display_name": "Python 3"
    },
    "language_info": {
      "name": "python"
    }
  },
  "cells": [
    {
      "cell_type": "markdown",
      "metadata": {
        "id": "JXPCK-Lt2hoX"
      },
      "source": [
        "# **Tic Tac Toe Player vs Player**"
      ]
    },
    {
      "cell_type": "code",
      "metadata": {
        "id": "9QWot5U30k0k"
      },
      "source": [
        "import sys\n",
        "import numpy as np"
      ],
      "execution_count": null,
      "outputs": []
    },
    {
      "cell_type": "markdown",
      "metadata": {
        "id": "P_NlrfXR2wh5"
      },
      "source": [
        "A class is created called game that can store the state of the board. It can be reset by using the __init__ function.\n",
        "\n",
        "Each player can input their pieces using the set_item function. finally the evaluate function is used to see if a player or won or the game is a draw."
      ]
    },
    {
      "cell_type": "code",
      "metadata": {
        "id": "0oIxxy3v0qCW"
      },
      "source": [
        "class game:\n",
        "\n",
        "  def __init__(self):\n",
        "    self.board = np.array([[0, 0, 0],\n",
        "                            [0, 0, 0],\n",
        "                            [0, 0, 0]])\n",
        "\n",
        "    \n",
        "  def set_item(self, index, player):\n",
        "    \n",
        "    if (self.board[index // 3][index % 3]==0):\n",
        "      self.board[index // 3][index % 3] = player\n",
        "    else:\n",
        "      raise RuntimeError('Spot {} already has a piece'.format(index))\n",
        "\n",
        "\n",
        "  def show(self):\n",
        "    print(self.board)\n",
        "\n",
        "  def row_win(self, player):\n",
        "    for x in range(len(self.board)):\n",
        "        win = True\n",
        "          \n",
        "        for y in range(len(self.board)):\n",
        "            if self.board[x, y] != player:\n",
        "                win = False\n",
        "                break\n",
        "                  \n",
        "        if win == True:\n",
        "            return(win)\n",
        "    return(win)\n",
        "\n",
        "  def col_win(self, player):\n",
        "      for x in range(len(self.board)):\n",
        "          win = True\n",
        "            \n",
        "          for y in range(len(self.board)):\n",
        "              if self.board[y][x] != player:\n",
        "                  win = False\n",
        "                  break\n",
        "                    \n",
        "          if win == True:\n",
        "              return(win)\n",
        "      return(win)\n",
        "\n",
        "  def diag_win(self, player):\n",
        "      win = True\n",
        "      y = 0\n",
        "      for x in range(len(self.board)):\n",
        "          if self.board[x, x] != player:\n",
        "              win = False\n",
        "      if win:\n",
        "          return win\n",
        "      win = True\n",
        "      if win:\n",
        "          for x in range(len(self.board)):\n",
        "              y = len(self.board) - 1 - x\n",
        "              if self.board[x, y] != player:\n",
        "                  win = False\n",
        "      return win\n",
        "\n",
        "  # Evaluates whether there is a winner or a tie\n",
        "  def evaluate(self,player):\n",
        "      winner = 0\n",
        "        \n",
        "      if (self.row_win(player) or self.col_win(player) or self.diag_win(player)):\n",
        "          winner = player\n",
        "          \n",
        "      if np.all(self.board != 0) and winner == 0:\n",
        "          winner = -1\n",
        "      return winner  "
      ],
      "execution_count": null,
      "outputs": []
    },
    {
      "cell_type": "code",
      "metadata": {
        "colab": {
          "base_uri": "https://localhost:8080/"
        },
        "id": "jNCOI-ZC1SDd",
        "outputId": "ad46ecf7-2c3c-4e98-d9e2-1a8b97b09376"
      },
      "source": [
        "play=True\n",
        "Tic=game()\n",
        "def player1():\n",
        "  move = int(input(\"Pick a spot to place 1: (0-8) \"))\n",
        "  return move\n",
        "\n",
        "def player2():\n",
        "  move = int(input(\"Pick a spot to place 2: (0-8) \"))\n",
        "  return move\n",
        "\n",
        "print('the game started')\n",
        "\n",
        "while (play):\n",
        "  Tic.show()\n",
        "  move=player1()\n",
        "  Tic.set_item(move,1)\n",
        "  if (Tic.evaluate(1)==1):\n",
        "    print('player 1 is the winner')\n",
        "    Tic.show()\n",
        "    break\n",
        "  elif (Tic.evaluate(1)==-1):\n",
        "    print('the game is a draw')\n",
        "    Tic.show()\n",
        "    break\n",
        "\n",
        "  Tic.show()\n",
        "  move=player2()\n",
        "  Tic.set_item(move,2)\n",
        "  if (Tic.evaluate(2)==2):\n",
        "    print('player 2 is the winner')\n",
        "    Tic.show()\n",
        "    break\n",
        "  elif (Tic.evaluate(2)==-1):\n",
        "    print('the game is a draw')\n",
        "    Tic.show()\n",
        "    break\n"
      ],
      "execution_count": null,
      "outputs": [
        {
          "output_type": "stream",
          "name": "stdout",
          "text": [
            "the game started\n",
            "[[0 0 0]\n",
            " [0 0 0]\n",
            " [0 0 0]]\n",
            "Pick a spot to place 1: (0-8) 0\n",
            "[[1 0 0]\n",
            " [0 0 0]\n",
            " [0 0 0]]\n",
            "Pick a spot to place 2: (0-8) 2\n",
            "[[1 0 2]\n",
            " [0 0 0]\n",
            " [0 0 0]]\n",
            "Pick a spot to place 1: (0-8) 3\n",
            "[[1 0 2]\n",
            " [1 0 0]\n",
            " [0 0 0]]\n",
            "Pick a spot to place 2: (0-8) 1\n",
            "[[1 2 2]\n",
            " [1 0 0]\n",
            " [0 0 0]]\n",
            "Pick a spot to place 1: (0-8) 6\n",
            "player 1 is the winner\n",
            "[[1 2 2]\n",
            " [1 0 0]\n",
            " [1 0 0]]\n"
          ]
        }
      ]
    }
  ]
}