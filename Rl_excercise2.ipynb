{
  "nbformat": 4,
  "nbformat_minor": 0,
  "metadata": {
    "colab": {
      "name": "Rl excercise2.ipynb",
      "provenance": [],
      "collapsed_sections": []
    },
    "kernelspec": {
      "name": "python3",
      "display_name": "Python 3"
    },
    "accelerator": "GPU"
  },
  "cells": [
    {
      "cell_type": "markdown",
      "source": [
        "**Hruday Vishal Kanna Anand**\n",
        "\n",
        "**1006874517**"
      ],
      "metadata": {
        "id": "9VvHe_zMDvNT"
      }
    },
    {
      "cell_type": "code",
      "metadata": {
        "id": "1XDvssQd64Pf"
      },
      "source": [
        "!apt-get install -y xvfb python-opengl > /dev/null 2>&1"
      ],
      "execution_count": null,
      "outputs": []
    },
    {
      "cell_type": "code",
      "metadata": {
        "id": "F5esgX013vPe"
      },
      "source": [
        "!pip install gym pyvirtualdisplay > /dev/null 2>&1"
      ],
      "execution_count": null,
      "outputs": []
    },
    {
      "cell_type": "code",
      "metadata": {
        "id": "Qbi2xaFo31Sj"
      },
      "source": [
        "import gym\n",
        "import numpy as np\n",
        "import matplotlib.pyplot as plt\n",
        "from IPython import display as ipythondisplay"
      ],
      "execution_count": null,
      "outputs": []
    },
    {
      "cell_type": "code",
      "metadata": {
        "id": "FGqXqJxoAsHG",
        "colab": {
          "base_uri": "https://localhost:8080/"
        },
        "outputId": "9af3711f-a815-40a5-b50d-8516d88642bd"
      },
      "source": [
        "from pyvirtualdisplay import Display\n",
        "display = Display(visible=0, size=(400, 300))\n",
        "display.start()"
      ],
      "execution_count": null,
      "outputs": [
        {
          "output_type": "execute_result",
          "data": {
            "text/plain": [
              "<pyvirtualdisplay.display.Display at 0x7fc448429a50>"
            ]
          },
          "metadata": {},
          "execution_count": 5
        }
      ]
    },
    {
      "cell_type": "code",
      "metadata": {
        "id": "6L4YayzR4FYj",
        "colab": {
          "base_uri": "https://localhost:8080/",
          "height": 287
        },
        "outputId": "aa818137-deac-45ff-a587-ffe84114a498"
      },
      "source": [
        "env = gym.make(\"CartPole-v0\")\n",
        "env.reset()\n",
        "prev_screen = env.render(mode='rgb_array')\n",
        "plt.imshow(prev_screen)\n",
        "\n",
        "for i in range(5000):\n",
        "  action = env.action_space.sample()\n",
        "  print(\"step i\",i,\"action=\",action)\n",
        "  obs, reward, done, info = env.step(action)\n",
        "  print(\"obs=\",obs,\"reward=\",reward,\"done=\",done,\"info=\",info)\n",
        "  screen = env.render(mode='rgb_array')\n",
        "  \n",
        "  plt.imshow(screen)\n",
        "  ipythondisplay.clear_output(wait=True)\n",
        "  ipythondisplay.display(plt.gcf())\n",
        "  \n",
        "  if done:\n",
        "    break\n",
        "    \n",
        "ipythondisplay.clear_output(wait=True)\n",
        "env.close()\n",
        "print(\"Iterations that were run:\",i)"
      ],
      "execution_count": null,
      "outputs": [
        {
          "output_type": "stream",
          "name": "stdout",
          "text": [
            "Iterations that were run: 9\n"
          ]
        },
        {
          "output_type": "display_data",
          "data": {
            "text/plain": [
              "<Figure size 432x288 with 1 Axes>"
            ],
            "image/png": "[encoded data removed]"
          },
          "metadata": {
            "needs_background": "light"
          }
        }
      ]
    },
    {
      "cell_type": "code",
      "metadata": {
        "colab": {
          "base_uri": "https://localhost:8080/"
        },
        "id": "SwrlaUEJNlRN",
        "outputId": "d5d744d4-026c-4a16-fc58-8e533399370c"
      },
      "source": [
        "print(env.action_space)"
      ],
      "execution_count": null,
      "outputs": [
        {
          "output_type": "stream",
          "name": "stdout",
          "text": [
            "Discrete(2)\n"
          ]
        }
      ]
    },
    {
      "cell_type": "code",
      "metadata": {
        "colab": {
          "base_uri": "https://localhost:8080/"
        },
        "id": "yc77ZuGtOXau",
        "outputId": "506fce65-d17b-47bd-b1d9-9a231858a936"
      },
      "source": [
        "print(env.observation_space)"
      ],
      "execution_count": null,
      "outputs": [
        {
          "output_type": "stream",
          "name": "stdout",
          "text": [
            "Box(-3.4028234663852886e+38, 3.4028234663852886e+38, (4,), float32)\n"
          ]
        }
      ]
    },
    {
      "cell_type": "code",
      "metadata": {
        "colab": {
          "base_uri": "https://localhost:8080/",
          "height": 171
        },
        "id": "t-hIzbhPQiyQ",
        "outputId": "3ffedcb5-da58-4aba-8a6f-1c4f0bc6059e"
      },
      "source": [
        "env.env.P"
      ],
      "execution_count": null,
      "outputs": [
        {
          "output_type": "error",
          "ename": "AttributeError",
          "evalue": "ignored",
          "traceback": [
            "\u001b[0;31m---------------------------------------------------------------------------\u001b[0m",
            "\u001b[0;31mAttributeError\u001b[0m                            Traceback (most recent call last)",
            "\u001b[0;32m<ipython-input-9-b754827ef770>\u001b[0m in \u001b[0;36m<module>\u001b[0;34m()\u001b[0m\n\u001b[0;32m----> 1\u001b[0;31m \u001b[0menv\u001b[0m\u001b[0;34m.\u001b[0m\u001b[0menv\u001b[0m\u001b[0;34m.\u001b[0m\u001b[0mP\u001b[0m\u001b[0;34m\u001b[0m\u001b[0;34m\u001b[0m\u001b[0m\n\u001b[0m",
            "\u001b[0;31mAttributeError\u001b[0m: 'CartPoleEnv' object has no attribute 'P'"
          ]
        }
      ]
    },
    {
      "cell_type": "markdown",
      "source": [
        "**Q.1** Can you design a dynamic programming based policy for the agent as in assignment 1? If so, design it and demonstrate that it solves the cart pole problem."
      ],
      "metadata": {
        "id": "6LVu_g-CDR1H"
      }
    },
    {
      "cell_type": "markdown",
      "metadata": {
        "id": "2cR1RdyDR6Xr"
      },
      "source": [
        "Dynamic programing cannot be used as we dont have an exact model of the probability fuction P(s',r|s,a). hence we would not be able to calculate the value function and must rely on stochastic sampling of the environment to calculate the Q function."
      ]
    },
    {
      "cell_type": "code",
      "source": [
        "  obs, reward, done, info = env.step(0)"
      ],
      "metadata": {
        "colab": {
          "base_uri": "https://localhost:8080/"
        },
        "id": "IjL_8IyFRncf",
        "outputId": "32fe5041-e66e-4e5b-d31e-75461b8e2ac2"
      },
      "execution_count": null,
      "outputs": [
        {
          "output_type": "stream",
          "name": "stderr",
          "text": [
            "/usr/local/lib/python3.7/dist-packages/gym/logger.py:30: UserWarning: \u001b[33mWARN: You are calling 'step()' even though this environment has already returned done = True. You should always call 'reset()' once you receive 'done = True' -- any further steps are undefined behavior.\u001b[0m\n",
            "  warnings.warn(colorize('%s: %s'%('WARN', msg % args), 'yellow'))\n"
          ]
        }
      ]
    },
    {
      "cell_type": "code",
      "source": [
        "actionSpace = [0,1]\n",
        "numStates = 10 ** 4\n",
        "numActions = env.action_space.n\n",
        "GAMMA = 0.9\n",
        "ALPHA = 0.01"
      ],
      "metadata": {
        "id": "09RlWdRlm1wz"
      },
      "execution_count": null,
      "outputs": []
    },
    {
      "cell_type": "code",
      "source": [
        "def createBins():\n",
        "  bins = np.zeros((4, 10))\n",
        "  bins[0] = np.linspace(-1.5, 1.5, 10)\n",
        "  bins[1] = np.linspace(-2, 2, 10)\n",
        "  bins[2] = np.linspace(-.5, .5, 10)\n",
        "  bins[3] = np.linspace(-3, 3, 10)\n",
        "\n",
        "  return bins"
      ],
      "metadata": {
        "id": "Otp_w3QO-75b"
      },
      "execution_count": null,
      "outputs": []
    },
    {
      "cell_type": "code",
      "source": [
        "def assignBins(obs, bins):\n",
        "  state = np.zeros(4)\n",
        "  for i in range(4):\n",
        "    state[i] = np.digitize(obs[i], bins[i])\n",
        "  return state"
      ],
      "metadata": {
        "id": "AIqlaDop_kK4"
      },
      "execution_count": null,
      "outputs": []
    },
    {
      "cell_type": "code",
      "source": [
        "def maxDict(d):\n",
        "  max_v = float('-inf')\n",
        "  for key, val in d.items():\n",
        "    if val > max_v:\n",
        "      max_v = val\n",
        "      max_key = key\n",
        "  return max_key, max_v"
      ],
      "metadata": {
        "id": "ZuQYQTTuGE-N"
      },
      "execution_count": null,
      "outputs": []
    },
    {
      "cell_type": "code",
      "source": [
        "def initQ():\n",
        "  Q = {}\n",
        "\n",
        "  for i in range(10):\n",
        "    for j in range(10):\n",
        "      for k in range(10):\n",
        "        for l in range(10):\n",
        "\n",
        "          Q[(i,j,k,l)] = {}\n",
        "          for action in range(env.action_space.n):\n",
        "            Q[(i,j,k,l)][action] = 0\n",
        "  return Q"
      ],
      "metadata": {
        "id": "qoAEsYvRGQpK"
      },
      "execution_count": null,
      "outputs": []
    },
    {
      "cell_type": "code",
      "source": [
        "def initTargetPolicy():\n",
        "  pi = {}\n",
        "\n",
        "  for i in range(10):\n",
        "    for j in range(10):\n",
        "      for k in range(10):\n",
        "        for l in range(10):\n",
        "          pi[(i,j,k,l)]= np.random.choice(actionSpace)\n",
        "  return pi"
      ],
      "metadata": {
        "id": "vM6csDjyGTfw"
      },
      "execution_count": null,
      "outputs": []
    },
    {
      "cell_type": "code",
      "source": [
        "def initBehaviourPolicy(epsilon):\n",
        "  b = {}\n",
        "\n",
        "  for i in range(10):\n",
        "    for j in range(10):\n",
        "      for k in range(10):\n",
        "        for l in range(10):\n",
        "          if np.random.choice(actionSpace)==0:  \n",
        "            b[(i,j,k,l)]= [1-epsilon,epsilon]\n",
        "          else:\n",
        "            b[(i,j,k,l)]= [epsilon,1-epsilon]\n",
        "  return b"
      ],
      "metadata": {
        "id": "ML3iK2Qn8DVx"
      },
      "execution_count": null,
      "outputs": []
    },
    {
      "cell_type": "code",
      "source": [
        "def initC():\n",
        "  C = {}\n",
        "\n",
        "  for i in range(10):\n",
        "    for j in range(10):\n",
        "      for k in range(10):\n",
        "        for l in range(10):\n",
        "          C[(i,j,k,l)] = {}\n",
        "          for action in range(env.action_space.n):\n",
        "            C[(i,j,k,l)][action] = 0\n",
        "  return C"
      ],
      "metadata": {
        "id": "0D_kfL7mQybc"
      },
      "execution_count": null,
      "outputs": []
    },
    {
      "cell_type": "code",
      "source": [
        "bins= createBins()"
      ],
      "metadata": {
        "id": "e44J4iH0BO5F"
      },
      "execution_count": null,
      "outputs": []
    },
    {
      "cell_type": "code",
      "source": [
        "state=assignBins(obs,bins)"
      ],
      "metadata": {
        "id": "yPQCLQADBT1V"
      },
      "execution_count": null,
      "outputs": []
    },
    {
      "cell_type": "code",
      "source": [
        "b=initBehaviourPolicy(0.1)\n"
      ],
      "metadata": {
        "id": "UkilKJENBbRB"
      },
      "execution_count": null,
      "outputs": []
    },
    {
      "cell_type": "code",
      "source": [
        "np.random.choice(actionSpace, p=b[state])"
      ],
      "metadata": {
        "colab": {
          "base_uri": "https://localhost:8080/"
        },
        "id": "Fny4Cp7iN_-D",
        "outputId": "4438a48d-2da9-4783-c401-f111d8a852de"
      },
      "execution_count": null,
      "outputs": [
        {
          "output_type": "execute_result",
          "data": {
            "text/plain": [
              "0"
            ]
          },
          "metadata": {},
          "execution_count": 59
        }
      ]
    },
    {
      "cell_type": "code",
      "source": [
        "q= initQ()"
      ],
      "metadata": {
        "id": "j25IEXqQM7Gh"
      },
      "execution_count": null,
      "outputs": []
    },
    {
      "cell_type": "code",
      "source": [
        "pi=initTargetPolicy()"
      ],
      "metadata": {
        "id": "iIrLrbE102Sk"
      },
      "execution_count": null,
      "outputs": []
    },
    {
      "cell_type": "code",
      "source": [
        "c= initC()"
      ],
      "metadata": {
        "id": "Ca4OCXrK1DCU"
      },
      "execution_count": null,
      "outputs": []
    },
    {
      "cell_type": "code",
      "source": [
        "def episode(env, policy,bins, display):\n",
        "  obs = env.reset()\n",
        "  rewards = []\n",
        "  actions = []\n",
        "  states = []\n",
        "  totalRewards = 0\n",
        "  while True:\n",
        "      state = tuple(assignBins(obs, bins))\n",
        "      action = np.random.choice(actionSpace, p=policy[state])\n",
        "      actions.append(action)\n",
        "      states.append(state)\n",
        "\n",
        "      obs, reward, done, info = env.step(action)\n",
        "      if display == True:\n",
        "          screen = env.render(mode='rgb_array')\n",
        "          plt.imshow(screen)\n",
        "      totalRewards += reward\n",
        "      rewards.append(reward)\n",
        "      if done == True:\n",
        "          if display == True:\n",
        "              print(totalRewards)\n",
        "          break\n",
        "      #print(totalRewards)\n",
        "  return states, actions, rewards"
      ],
      "metadata": {
        "id": "BM9oidyN1Kav"
      },
      "execution_count": null,
      "outputs": []
    },
    {
      "cell_type": "code",
      "source": [
        "obs=env.reset()\n",
        "print(obs)\n",
        "state = tuple(assignBins(obs, bins))\n",
        "print(state)\n",
        "print(pi[state])\n",
        "action = np.random.choice(tuple(pi[state]))\n",
        "print(action)"
      ],
      "metadata": {
        "colab": {
          "base_uri": "https://localhost:8080/",
          "height": 280
        },
        "id": "xpX9AOSZ-F_c",
        "outputId": "e1a13063-d76a-436b-9423-e1c61ba33c17"
      },
      "execution_count": null,
      "outputs": [
        {
          "output_type": "stream",
          "name": "stdout",
          "text": [
            "[0.02652397 0.00134107 0.04984708 0.02426137]\n",
            "(5.0, 5.0, 5.0, 5.0)\n",
            "0\n"
          ]
        },
        {
          "output_type": "error",
          "ename": "TypeError",
          "evalue": "ignored",
          "traceback": [
            "\u001b[0;31m---------------------------------------------------------------------------\u001b[0m",
            "\u001b[0;31mTypeError\u001b[0m                                 Traceback (most recent call last)",
            "\u001b[0;32m<ipython-input-33-d6357372f967>\u001b[0m in \u001b[0;36m<module>\u001b[0;34m()\u001b[0m\n\u001b[1;32m      4\u001b[0m \u001b[0mprint\u001b[0m\u001b[0;34m(\u001b[0m\u001b[0mstate\u001b[0m\u001b[0;34m)\u001b[0m\u001b[0;34m\u001b[0m\u001b[0;34m\u001b[0m\u001b[0m\n\u001b[1;32m      5\u001b[0m \u001b[0mprint\u001b[0m\u001b[0;34m(\u001b[0m\u001b[0mpi\u001b[0m\u001b[0;34m[\u001b[0m\u001b[0mstate\u001b[0m\u001b[0;34m]\u001b[0m\u001b[0;34m)\u001b[0m\u001b[0;34m\u001b[0m\u001b[0;34m\u001b[0m\u001b[0m\n\u001b[0;32m----> 6\u001b[0;31m \u001b[0maction\u001b[0m \u001b[0;34m=\u001b[0m \u001b[0mnp\u001b[0m\u001b[0;34m.\u001b[0m\u001b[0mrandom\u001b[0m\u001b[0;34m.\u001b[0m\u001b[0mchoice\u001b[0m\u001b[0;34m(\u001b[0m\u001b[0mtuple\u001b[0m\u001b[0;34m(\u001b[0m\u001b[0mpi\u001b[0m\u001b[0;34m[\u001b[0m\u001b[0mstate\u001b[0m\u001b[0;34m]\u001b[0m\u001b[0;34m)\u001b[0m\u001b[0;34m)\u001b[0m\u001b[0;34m\u001b[0m\u001b[0;34m\u001b[0m\u001b[0m\n\u001b[0m\u001b[1;32m      7\u001b[0m \u001b[0mprint\u001b[0m\u001b[0;34m(\u001b[0m\u001b[0maction\u001b[0m\u001b[0;34m)\u001b[0m\u001b[0;34m\u001b[0m\u001b[0;34m\u001b[0m\u001b[0m\n",
            "\u001b[0;31mTypeError\u001b[0m: 'numpy.int64' object is not iterable"
          ]
        }
      ]
    },
    {
      "cell_type": "code",
      "source": [
        "np.random.choice(actionSpace, p=(0.1,0.9))"
      ],
      "metadata": {
        "colab": {
          "base_uri": "https://localhost:8080/"
        },
        "id": "cNMa3q-L-uB1",
        "outputId": "7d4f9927-0a25-47dc-ac31-5e3584a73152"
      },
      "execution_count": null,
      "outputs": [
        {
          "output_type": "execute_result",
          "data": {
            "text/plain": [
              "0"
            ]
          },
          "metadata": {},
          "execution_count": 71
        }
      ]
    },
    {
      "cell_type": "code",
      "source": [
        "states, actions, rewards= episode(env,b, bins, True)"
      ],
      "metadata": {
        "colab": {
          "base_uri": "https://localhost:8080/",
          "height": 287
        },
        "id": "I7YyIs7M4Gfn",
        "outputId": "bab93614-c1d4-4d74-a55a-922c9eff9a23"
      },
      "execution_count": null,
      "outputs": [
        {
          "output_type": "stream",
          "name": "stdout",
          "text": [
            "21.0\n"
          ]
        },
        {
          "output_type": "display_data",
          "data": {
            "text/plain": [
              "<Figure size 432x288 with 1 Axes>"
            ],
            "image/png": "[encoded data removed]"
          },
          "metadata": {
            "needs_background": "light"
          }
        }
      ]
    },
    {
      "cell_type": "code",
      "metadata": {
        "colab": {
          "base_uri": "https://localhost:8080/",
          "height": 287
        },
        "id": "uqQvG1SKNv7_",
        "outputId": "9ebe348f-e00f-4c58-a5e1-e189f3e5f841"
      },
      "source": [
        "env = gym.make(\"CartPole-v0\")\n",
        "env.reset()\n",
        "state_list=[]\n",
        "for i in range(5000):\n",
        "  action = env.action_space.sample()\n",
        "  print(\"step i\",i,\"action=\",action)\n",
        "  obs, reward, done, info = env.step(action)\n",
        "  print(\"obs=\",obs,\"reward=\",reward,\"done=\",done,\"info=\",info)\n",
        "  if not state_list:\n",
        "    state_list.append(((0,0,0,0),action, reward))\n",
        "  else:\n",
        "    state_list.append((prev_obs,action, reward))\n",
        "  prev_obs=tuple(obs)\n",
        "  screen = env.render(mode='rgb_array')\n",
        "  \n",
        "  plt.imshow(screen)\n",
        "  ipythondisplay.clear_output(wait=True)\n",
        "  ipythondisplay.display(plt.gcf())\n",
        "\n",
        "  if done:\n",
        "    break\n",
        "    \n",
        "ipythondisplay.clear_output(wait=True)\n",
        "print(\"Iterations that were run:\",i)\n",
        "\n"
      ],
      "execution_count": null,
      "outputs": [
        {
          "output_type": "stream",
          "name": "stdout",
          "text": [
            "Iterations that were run: 10\n"
          ]
        },
        {
          "output_type": "display_data",
          "data": {
            "text/plain": [
              "<Figure size 432x288 with 1 Axes>"
            ],
            "image/png": "[encoded data removed]"
          },
          "metadata": {
            "needs_background": "light"
          }
        }
      ]
    },
    {
      "cell_type": "markdown",
      "source": [
        "**Q.2** Can you design a Monte Carlo based policy for the agent? What ingredients do you require? Explain the design flow, and execute it. Show that it works, or indicate why you can't proceed."
      ],
      "metadata": {
        "id": "QLzcrtBpDkJ6"
      }
    },
    {
      "cell_type": "markdown",
      "source": [
        "Yes we can design a Monte Carlo based policy for the agent. For the monte carlo method we need to make a set of episodes and calculate the state action value function by averaging the returns for each state through all the episodes. we would need to design a policy to stocasticly sample the environment so that we can create the episodes."
      ],
      "metadata": {
        "id": "h4ewN_bBZoI6"
      }
    },
    {
      "cell_type": "markdown",
      "source": [
        "in code above we ran one episode and made a state list consisting of the state the action taken  and the reward obtained for that action.\n",
        "\n",
        "using this list and iterating backwards we can create the returns for every state.\n",
        "\n",
        "this is done over many episodes to get multiple returns for the same states, which is then averaged to give us a viable Q- state action value function.\n",
        "\n"
      ],
      "metadata": {
        "id": "eXZ2LhgUEKBf"
      }
    },
    {
      "cell_type": "markdown",
      "source": [
        "The problem that was faced is that we dont have an idea of the possible states that the cart can take hence it because hard to create a policy for the cart for states we dont know about."
      ],
      "metadata": {
        "id": "n0Q2ucwWGr5W"
      }
    }
  ]
}